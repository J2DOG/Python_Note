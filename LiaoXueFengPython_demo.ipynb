{
 "cells": [
  {
   "cell_type": "code",
   "execution_count": 3,
   "id": "dc5752eb",
   "metadata": {},
   "outputs": [
    {
     "name": "stdout",
     "output_type": "stream",
     "text": [
      " 3-01\n",
      "3.14\n"
     ]
    }
   ],
   "source": [
    "print('%2d-%02d' % (3, 1))# 两位整数不补零和两位整数补零\n",
    "print('%.2f' % 3.1415926)"
   ]
  },
  {
   "cell_type": "code",
   "execution_count": 2,
   "id": "33c4072d",
   "metadata": {},
   "outputs": [
    {
     "data": {
      "text/plain": [
       "3"
      ]
     },
     "execution_count": 2,
     "metadata": {},
     "output_type": "execute_result"
    }
   ],
   "source": [
    "list = ['1','2','3']\n",
    "len(list)"
   ]
  },
  {
   "cell_type": "code",
   "execution_count": 3,
   "id": "7851bfb2",
   "metadata": {},
   "outputs": [
    {
     "name": "stdout",
     "output_type": "stream",
     "text": [
      "Apple\n",
      "Python\n",
      "Lisa\n"
     ]
    }
   ],
   "source": [
    "L = [\n",
    "    ['Apple', 'Google', 'Microsoft'],\n",
    "    ['Java', 'Python', 'Ruby', 'PHP'],\n",
    "    ['Adam', 'Bart', 'Lisa']\n",
    "]\n",
    "# 打印Apple:\n",
    "print(L[0][0])\n",
    "# 打印Python:\n",
    "print(L[1][1])\n",
    "# 打印Lisa:\n",
    "print(L[-1][-1])"
   ]
  },
  {
   "cell_type": "code",
   "execution_count": 6,
   "id": "1b47691f",
   "metadata": {},
   "outputs": [
    {
     "name": "stdout",
     "output_type": "stream",
     "text": [
      "too fat\n"
     ]
    }
   ],
   "source": [
    "weight = 80.5\n",
    "height = 1.75\n",
    "\n",
    "bmi = weight/(height*height)\n",
    "if bmi < 18.5:\n",
    "    print('too thin')\n",
    "elif bmi >= 18.5 and bmi <25:\n",
    "    print('nomal')\n",
    "elif bmi >= 25 and bmi <28:\n",
    "    print(\"too fat\")\n",
    "elif bmi >= 28 and bmi<32:\n",
    "    print('obesity')\n",
    "else:\n",
    "    print('serious obesity')\n",
    "    pass"
   ]
  },
  {
   "cell_type": "code",
   "execution_count": 13,
   "id": "0cb217ad",
   "metadata": {},
   "outputs": [
    {
     "data": {
      "text/plain": [
       "[0, 1, 2, 3, 4]"
      ]
     },
     "execution_count": 13,
     "metadata": {},
     "output_type": "execute_result"
    }
   ],
   "source": [
    "del list\n",
    "list(range(5))\n"
   ]
  },
  {
   "cell_type": "code",
   "execution_count": 16,
   "id": "70c187aa",
   "metadata": {},
   "outputs": [
    {
     "name": "stdout",
     "output_type": "stream",
     "text": [
      "quadratic(2, 3, 1) = (-0.5, -1.0)\n",
      "quadratic(1, 3, -4) = (1.0, -4.0)\n",
      "测试成功\n"
     ]
    }
   ],
   "source": [
    "import math\n",
    "\n",
    "def quadratic(a, b, c):\n",
    "    x_1 = (-b+math.sqrt(b*b-4*a*c))/(2*a)\n",
    "    x_2 = (-b-math.sqrt(b*b-4*a*c))/(2*a)\n",
    "    return x_1, x_2\n",
    "\n",
    "# 测试:\n",
    "print('quadratic(2, 3, 1) =', quadratic(2, 3, 1))\n",
    "print('quadratic(1, 3, -4) =', quadratic(1, 3, -4))\n",
    "\n",
    "if quadratic(2, 3, 1) != (-0.5, -1.0):\n",
    "    print('测试失败')\n",
    "elif quadratic(1, 3, -4) != (1.0, -4.0):\n",
    "    print('测试失败')\n",
    "else:\n",
    "    print('测试成功')"
   ]
  },
  {
   "cell_type": "code",
   "execution_count": 27,
   "id": "214b2fe6",
   "metadata": {},
   "outputs": [],
   "source": [
    "def move(n,a,b,c):\n",
    "    if n == 1:\n",
    "        print(a+' --> '+c)\n",
    "        return\n",
    "    else :        \n",
    "        move(n-1, a, c, b)\n",
    "        move(1, a, b, c)\n",
    "        move(n-1, b, a, c)\n",
    "        return\n",
    "    "
   ]
  },
  {
   "cell_type": "code",
   "execution_count": 28,
   "id": "f0d2eb84",
   "metadata": {},
   "outputs": [
    {
     "name": "stdout",
     "output_type": "stream",
     "text": [
      "A --> C\n",
      "A --> B\n",
      "C --> B\n",
      "A --> C\n",
      "B --> A\n",
      "B --> C\n",
      "A --> C\n"
     ]
    }
   ],
   "source": [
    "move(3,'A','B','C')"
   ]
  },
  {
   "cell_type": "code",
   "execution_count": 43,
   "id": "851e3997",
   "metadata": {},
   "outputs": [
    {
     "name": "stdout",
     "output_type": "stream",
     "text": [
      "测试成功!\n"
     ]
    }
   ],
   "source": [
    "def trim(s):\n",
    "    while s != '' and (s[0] == ' ' or s[-1] == ' '):\n",
    "        if s[0] == ' ':\n",
    "            s = s[1:]\n",
    "        if s[-1] == ' ':\n",
    "            s = s[:-1]\n",
    "    return s\n",
    "if trim('hello  ') != 'hello':\n",
    "    print('测试失败!')\n",
    "elif trim('  hello') != 'hello':\n",
    "    print('测试失败!')\n",
    "elif trim('  hello  ') != 'hello':\n",
    "    print('测试失败!')\n",
    "elif trim('  hello  world  ') != 'hello  world':\n",
    "    print('测试失败!')\n",
    "elif trim('') != '':\n",
    "    print('测试失败!')\n",
    "elif trim('    ') != '':\n",
    "    print('测试失败!')\n",
    "else:\n",
    "    print('测试成功!')"
   ]
  },
  {
   "cell_type": "code",
   "execution_count": 45,
   "id": "3bbf248e",
   "metadata": {},
   "outputs": [
    {
     "data": {
      "text/plain": [
       "True"
      ]
     },
     "execution_count": 45,
     "metadata": {},
     "output_type": "execute_result"
    }
   ],
   "source": [
    "from collections.abc import Iterable \n",
    "# 判断能否迭代\n",
    "isinstance('abc',Iterable)"
   ]
  },
  {
   "cell_type": "code",
   "execution_count": 52,
   "id": "b56a0ddf",
   "metadata": {},
   "outputs": [
    {
     "name": "stdout",
     "output_type": "stream",
     "text": [
      "测试成功!\n"
     ]
    }
   ],
   "source": [
    "def findMinAndMax(L):\n",
    "    if len(L) == 0:\n",
    "        return (None,None)\n",
    "    num_min = num_max =L[0]\n",
    "    for x in L:\n",
    "        if num_min > x:\n",
    "            num_min = x\n",
    "        if num_max < x:\n",
    "            num_max = x\n",
    "    return (num_min,num_max)\n",
    "# 测试\n",
    "if findMinAndMax([]) != (None, None):\n",
    "    print('测试失败!')\n",
    "elif findMinAndMax([7]) != (7, 7):\n",
    "    print('测试失败!')\n",
    "elif findMinAndMax([7, 1]) != (1, 7):\n",
    "    print('测试失败!')\n",
    "elif findMinAndMax([7, 1, 3, 9, 5]) != (1, 9):\n",
    "    print('测试失败!')\n",
    "else:\n",
    "    print('测试成功!')"
   ]
  },
  {
   "cell_type": "code",
   "execution_count": 53,
   "id": "0a63d6c7",
   "metadata": {},
   "outputs": [],
   "source": [
    "a = range(1,11)\n",
    "b = list(range(1,11))"
   ]
  },
  {
   "cell_type": "code",
   "execution_count": 61,
   "id": "8d6f75ba",
   "metadata": {},
   "outputs": [
    {
     "name": "stdout",
     "output_type": "stream",
     "text": [
      "alist= [1, 4, 9, 16, 25, 36, 49, 64, 81, 100] \n",
      " blist [4, 16, 36, 64, 100]\n"
     ]
    }
   ],
   "source": [
    "alist = [x*x for x in range(1,11)] \n",
    "blist = [x*x for x in range(1,11) if x%2 == 0]\n",
    "print('alist=',alist,'\\n','blist',blist)#List Comprehensions"
   ]
  },
  {
   "cell_type": "code",
   "execution_count": 62,
   "id": "0505668c",
   "metadata": {},
   "outputs": [
    {
     "data": {
      "text/plain": [
       "['11', '12', '13', '21', '22', '23', '31', '32', '33']"
      ]
     },
     "execution_count": 62,
     "metadata": {},
     "output_type": "execute_result"
    }
   ],
   "source": [
    "[m+n for m in '123' for n in '123' ]# 两层循环"
   ]
  },
  {
   "cell_type": "code",
   "execution_count": 63,
   "id": "b9dc100f",
   "metadata": {},
   "outputs": [
    {
     "data": {
      "text/plain": [
       "['A=x', 'B=y', 'C=z']"
      ]
     },
     "execution_count": 63,
     "metadata": {},
     "output_type": "execute_result"
    }
   ],
   "source": [
    "d = {'A':'x','B':'y','C':'z'}\n",
    "[k + '=' + v for k,v in d.items()]"
   ]
  },
  {
   "cell_type": "code",
   "execution_count": 64,
   "id": "5a5fbc4b",
   "metadata": {},
   "outputs": [
    {
     "data": {
      "text/plain": [
       "[-1, 2, -3, 4, -5, 6, -7, 8, -9, 10]"
      ]
     },
     "execution_count": 64,
     "metadata": {},
     "output_type": "execute_result"
    }
   ],
   "source": [
    "[x if x%2 == 0 else -x for x in range(1,11)]"
   ]
  },
  {
   "cell_type": "code",
   "execution_count": 67,
   "id": "9ff247eb",
   "metadata": {},
   "outputs": [
    {
     "name": "stdout",
     "output_type": "stream",
     "text": [
      "['hello', 'world', 'apple']\n",
      "测试通过!\n"
     ]
    }
   ],
   "source": [
    "L1 = ['Hello', 'World', 18, 'Apple', None]\n",
    "L2 = [x.lower() for x in L1 if isinstance(x,str)]# .lower():小写转换，isinstance():数据类型判断\n",
    "# 测试:\n",
    "print(L2)\n",
    "if L2 == ['hello', 'world', 'apple']:\n",
    "    print('测试通过!')\n",
    "else:\n",
    "    print('测试失败!')"
   ]
  },
  {
   "cell_type": "code",
   "execution_count": null,
   "id": "5e5603ed",
   "metadata": {},
   "outputs": [],
   "source": []
  }
 ],
 "metadata": {
  "kernelspec": {
   "display_name": "Python 3 (ipykernel)",
   "language": "python",
   "name": "python3"
  },
  "language_info": {
   "codemirror_mode": {
    "name": "ipython",
    "version": 3
   },
   "file_extension": ".py",
   "mimetype": "text/x-python",
   "name": "python",
   "nbconvert_exporter": "python",
   "pygments_lexer": "ipython3",
   "version": "3.9.12"
  }
 },
 "nbformat": 4,
 "nbformat_minor": 5
}
